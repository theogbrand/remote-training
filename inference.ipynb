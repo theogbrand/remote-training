{
 "cells": [
  {
   "cell_type": "code",
   "execution_count": 1,
   "id": "8fcb4693-4bad-4931-a11b-ad86b4db5eb5",
   "metadata": {},
   "outputs": [],
   "source": [
    "# must download when new kernel created\n",
    "!pip install git+https://github.com/huggingface/transformers -qqq\n",
    "!pip install datasets -qqq\n",
    "!pip install bitsandbytes -qqq\n",
    "!pip install huggingface_hub -qqq\n",
    "!pip install peft -qqq\n",
    "!pip install accelerate -qqq\n",
    "!pip install bitsandbytes -qqq\n",
    "!pip install trl -qqq\n",
    "!pip install wandb -qqq\n",
    "!pip install ipywidgets -qqq\n",
    "!pip install -U \"huggingface_hub[cli]\" -qqq"
   ]
  },
  {
   "cell_type": "code",
   "execution_count": 11,
   "id": "265d704e-cb0b-4335-808f-04810a14736b",
   "metadata": {},
   "outputs": [
    {
     "name": "stdout",
     "output_type": "stream",
     "text": [
      "Package                   Version\n",
      "------------------------- ---------------\n",
      "accelerate                0.26.1\n",
      "aiohttp                   3.9.1\n",
      "aiosignal                 1.3.1\n",
      "anyio                     4.2.0\n",
      "appdirs                   1.4.4\n",
      "argon2-cffi               23.1.0\n",
      "argon2-cffi-bindings      21.2.0\n",
      "arrow                     1.3.0\n",
      "asttokens                 2.4.1\n",
      "async-lru                 2.0.4\n",
      "async-timeout             4.0.3\n",
      "attrs                     23.2.0\n",
      "Babel                     2.14.0\n",
      "beautifulsoup4            4.12.2\n",
      "bitsandbytes              0.42.0\n",
      "bleach                    6.1.0\n",
      "certifi                   2023.11.17\n",
      "cffi                      1.16.0\n",
      "charset-normalizer        3.3.2\n",
      "click                     8.1.7\n",
      "comm                      0.2.1\n",
      "datasets                  2.16.1\n",
      "debugpy                   1.8.0\n",
      "decorator                 5.1.1\n",
      "defusedxml                0.7.1\n",
      "dill                      0.3.7\n",
      "docker-pycreds            0.4.0\n",
      "docstring-parser          0.15\n",
      "exceptiongroup            1.2.0\n",
      "executing                 2.0.1\n",
      "fastjsonschema            2.19.1\n",
      "filelock                  3.13.1\n",
      "fqdn                      1.5.1\n",
      "frozenlist                1.4.1\n",
      "fsspec                    2023.10.0\n",
      "gitdb                     4.0.11\n",
      "GitPython                 3.1.41\n",
      "huggingface-hub           0.20.2\n",
      "idna                      3.6\n",
      "inquirerpy                0.3.4\n",
      "ipykernel                 6.28.0\n",
      "ipython                   8.20.0\n",
      "ipywidgets                8.1.1\n",
      "isoduration               20.11.0\n",
      "jedi                      0.19.1\n",
      "Jinja2                    3.1.3\n",
      "json5                     0.9.14\n",
      "jsonpointer               2.4\n",
      "jsonschema                4.20.0\n",
      "jsonschema-specifications 2023.12.1\n",
      "jupyter_client            8.6.0\n",
      "jupyter_core              5.7.1\n",
      "jupyter-events            0.9.0\n",
      "jupyter-lsp               2.2.1\n",
      "jupyter_server            2.12.4\n",
      "jupyter_server_terminals  0.5.1\n",
      "jupyterlab                4.0.10\n",
      "jupyterlab_pygments       0.3.0\n",
      "jupyterlab_server         2.25.2\n",
      "jupyterlab-widgets        3.0.9\n",
      "markdown-it-py            3.0.0\n",
      "MarkupSafe                2.1.3\n",
      "matplotlib-inline         0.1.6\n",
      "mdurl                     0.1.2\n",
      "mistune                   3.0.2\n",
      "mpmath                    1.3.0\n",
      "multidict                 6.0.4\n",
      "multiprocess              0.70.15\n",
      "nbclient                  0.9.0\n",
      "nbconvert                 7.14.1\n",
      "nbformat                  5.9.2\n",
      "nest-asyncio              1.5.9\n",
      "networkx                  3.2.1\n",
      "notebook_shim             0.2.3\n",
      "numpy                     1.26.3\n",
      "nvidia-cublas-cu12        12.1.3.1\n",
      "nvidia-cuda-cupti-cu12    12.1.105\n",
      "nvidia-cuda-nvrtc-cu12    12.1.105\n",
      "nvidia-cuda-runtime-cu12  12.1.105\n",
      "nvidia-cudnn-cu12         8.9.2.26\n",
      "nvidia-cufft-cu12         11.0.2.54\n",
      "nvidia-curand-cu12        10.3.2.106\n",
      "nvidia-cusolver-cu12      11.4.5.107\n",
      "nvidia-cusparse-cu12      12.1.0.106\n",
      "nvidia-nccl-cu12          2.18.1\n",
      "nvidia-nvjitlink-cu12     12.3.101\n",
      "nvidia-nvtx-cu12          12.1.105\n",
      "overrides                 7.4.0\n",
      "packaging                 23.2\n",
      "pandas                    2.1.4\n",
      "pandocfilters             1.5.0\n",
      "parso                     0.8.3\n",
      "peft                      0.7.1\n",
      "pexpect                   4.9.0\n",
      "pfzy                      0.3.4\n",
      "pip                       23.0.1\n",
      "platformdirs              4.1.0\n",
      "prometheus-client         0.19.0\n",
      "prompt-toolkit            3.0.43\n",
      "protobuf                  4.25.2\n",
      "psutil                    5.9.7\n",
      "ptyprocess                0.7.0\n",
      "pure-eval                 0.2.2\n",
      "pyarrow                   14.0.2\n",
      "pyarrow-hotfix            0.6\n",
      "pycparser                 2.21\n",
      "Pygments                  2.17.2\n",
      "python-dateutil           2.8.2\n",
      "python-json-logger        2.0.7\n",
      "pytz                      2023.3.post1\n",
      "PyYAML                    6.0.1\n",
      "pyzmq                     25.1.2\n",
      "referencing               0.32.1\n",
      "regex                     2023.12.25\n",
      "requests                  2.31.0\n",
      "rfc3339-validator         0.1.4\n",
      "rfc3986-validator         0.1.1\n",
      "rich                      13.7.0\n",
      "rpds-py                   0.17.1\n",
      "safetensors               0.4.1\n",
      "scipy                     1.11.4\n",
      "Send2Trash                1.8.2\n",
      "sentry-sdk                1.39.2\n",
      "setproctitle              1.3.3\n",
      "setuptools                65.5.0\n",
      "shtab                     1.6.5\n",
      "six                       1.16.0\n",
      "smmap                     5.0.1\n",
      "sniffio                   1.3.0\n",
      "soupsieve                 2.5\n",
      "stack-data                0.6.3\n",
      "sympy                     1.12\n",
      "terminado                 0.18.0\n",
      "tinycss2                  1.2.1\n",
      "tokenizers                0.15.0\n",
      "tomli                     2.0.1\n",
      "torch                     2.1.2\n",
      "tornado                   6.4\n",
      "tqdm                      4.66.1\n",
      "traitlets                 5.14.1\n",
      "transformers              4.38.0.dev0\n",
      "triton                    2.1.0\n",
      "trl                       0.7.9\n",
      "types-python-dateutil     2.8.19.20240106\n",
      "typing_extensions         4.9.0\n",
      "tyro                      0.6.4\n",
      "tzdata                    2023.4\n",
      "uri-template              1.3.0\n",
      "urllib3                   2.1.0\n",
      "wandb                     0.16.2\n",
      "wcwidth                   0.2.13\n",
      "webcolors                 1.13\n",
      "webencodings              0.5.1\n",
      "websocket-client          1.7.0\n",
      "wheel                     0.42.0\n",
      "widgetsnbextension        4.0.9\n",
      "xxhash                    3.4.1\n",
      "yarl                      1.9.4\n",
      "\n",
      "\u001b[1m[\u001b[0m\u001b[34;49mnotice\u001b[0m\u001b[1;39;49m]\u001b[0m\u001b[39;49m A new release of pip is available: \u001b[0m\u001b[31;49m23.0.1\u001b[0m\u001b[39;49m -> \u001b[0m\u001b[32;49m23.3.2\u001b[0m\n",
      "\u001b[1m[\u001b[0m\u001b[34;49mnotice\u001b[0m\u001b[1;39;49m]\u001b[0m\u001b[39;49m To update, run: \u001b[0m\u001b[32;49mpip install --upgrade pip\u001b[0m\n"
     ]
    }
   ],
   "source": [
    "# login outside of jupyter notebook\n",
    "\n",
    "# !huggingface-cli whoami\n",
    "\n",
    "# import wandb\n",
    "# wandb.login()\n",
    "\n",
    "# !pip list"
   ]
  },
  {
   "cell_type": "code",
   "execution_count": 10,
   "id": "295cf79c-b3db-48d5-94e0-26832de24979",
   "metadata": {},
   "outputs": [
    {
     "data": {
      "application/vnd.jupyter.widget-view+json": {
       "model_id": "fe2db4f59abe47acaf9ae730b6ea2547",
       "version_major": 2,
       "version_minor": 0
      },
      "text/plain": [
       "Loading checkpoint shards:   0%|          | 0/2 [00:00<?, ?it/s]"
      ]
     },
     "metadata": {},
     "output_type": "display_data"
    },
    {
     "name": "stdout",
     "output_type": "stream",
     "text": [
      "<s> [INST] What is your favourite condiment? [/INST]\n",
      "\n",
      "I'm not sure if this is a condiment, but I love ketchup. I'm not sure why, but I love it. I'm not a big fan of mustard, but I do like it on hot dogs. I'm not a big fan of mayonnaise, but I do like it on sandwiches. I'm not a big fan of relish, but I do like it on hot dogs. I'm not a big fan of pickles, but I do like them on sandwiches. I'm not a big fan of olives, but I do like them on pizza. I'm not a big fan of cheese, but I do like it on pizza. I'm not a big fan of tomatoes, but I do like them on pizza. I'm not a big fan of onions, but I do like them on pizza. I'm not a big fan of peppers, but I do like them on pizza. I'm not a big fan of mushrooms, but I do like them on pizza. I'm not a big fan of sausage, but I do like it on pizza. I'm not a big fan\n"
     ]
    }
   ],
   "source": [
    "from transformers import AutoModelForCausalLM, AutoTokenizer, BitsAndBytesConfig\n",
    "import torch\n",
    "\n",
    "model_name = \"mistralai/Mistral-7B-v0.1\"\n",
    "# model_name = \"meta-llama/Llama-2-7b-chat-hf\"\n",
    "tokenizer = AutoTokenizer.from_pretrained(\n",
    "    \"mistralai/Mistral-7B-v0.1\",\n",
    "    padding_side=\"left\", # set as left for mistral, right for llama2\n",
    "    add_eos_token=True,\n",
    "    add_bos_token=True,\n",
    ")\n",
    "tokenizer.pad_token = tokenizer.eos_token\n",
    "\n",
    "bnb_config = BitsAndBytesConfig(\n",
    "    load_in_4bit=True,\n",
    "    bnb_4bit_use_double_quant=True,\n",
    "    bnb_4bit_quant_type=\"nf4\",\n",
    "    bnb_4bit_compute_dtype=torch.bfloat16,\n",
    ")\n",
    "\n",
    "\n",
    "inf_model = AutoModelForCausalLM.from_pretrained(\n",
    "    model_name,\n",
    "    quantization_config=bnb_config,\n",
    "    device_map=\"auto\",\n",
    ")\n",
    "\n",
    "messages = [\n",
    "    {\"role\": \"user\", \"content\": \"What is your favourite condiment?\"},\n",
    "]\n",
    "encodeds = tokenizer.apply_chat_template(messages, return_tensors=\"pt\")\n",
    "\n",
    "device = \"cuda\"\n",
    "model_inputs = encodeds.to(device)\n",
    "\n",
    "generated_ids = inf_model.generate(model_inputs, max_new_tokens=256, pad_token_id=tokenizer.pad_token_id)\n",
    "decoded = tokenizer.batch_decode(generated_ids)\n",
    "print(decoded[0])"
   ]
  },
  {
   "cell_type": "code",
   "execution_count": 12,
   "id": "f2d56bf5-b1f2-430a-bee4-36b47cfbac23",
   "metadata": {},
   "outputs": [
    {
     "name": "stderr",
     "output_type": "stream",
     "text": [
      "Setting `pad_token_id` to `eos_token_id`:2 for open-end generation.\n",
      "A decoder-only architecture is being used, but right-padding was detected! For correct generation results, please set `padding_side='left'` when initializing the tokenizer.\n"
     ]
    },
    {
     "name": "stdout",
     "output_type": "stream",
     "text": [
      "test case: 0\n",
      "cuda\n"
     ]
    },
    {
     "name": "stderr",
     "output_type": "stream",
     "text": [
      "Setting `pad_token_id` to `eos_token_id`:2 for open-end generation.\n",
      "A decoder-only architecture is being used, but right-padding was detected! For correct generation results, please set `padding_side='left'` when initializing the tokenizer.\n"
     ]
    },
    {
     "name": "stdout",
     "output_type": "stream",
     "text": [
      "how can I jump higherм\n",
      "\n",
      "## How to jump higher\n",
      "\n",
      "Jumping is a skill that is used in many sports, such as basketball, volleyball, and track and field. It is also a skill that can be improved with practice. There are a few things that you can do to improve your jumping ability.\n",
      "\n",
      "One thing that you can do is to practice jumping as often as possible. This will help you to improve your coordination and your ability to jump higher. You can also try to jump as high as possible when you are practicing. This will help you to improve your jumping ability.\n",
      "\n",
      "Another thing that you can do is to practice jumping with a partner. This will help you to improve your coordination and your ability to jump higher. You can also try to jump as high as possible when you are practicing with a partner. This will help you to improve your jumping ability.\n",
      "\n",
      "You can also try to jump as high as possible when you are practicing with a partner. This will help you to improve your jumping ability.\n",
      "\n",
      "## How\n",
      "\n",
      "test case: 1\n",
      "cuda\n"
     ]
    },
    {
     "name": "stderr",
     "output_type": "stream",
     "text": [
      "Setting `pad_token_id` to `eos_token_id`:2 for open-end generation.\n",
      "A decoder-only architecture is being used, but right-padding was detected! For correct generation results, please set `padding_side='left'` when initializing the tokenizer.\n"
     ]
    },
    {
     "name": "stdout",
     "output_type": "stream",
     "text": [
      "how to dunk?й 2020\n",
      "\n",
      "# How to Dunk a Basketball: 10 Steps (with Pictures)\n",
      "\n",
      "## How to Dunk a Basketball: 10 Steps (with Pictures)\n",
      "\n",
      "How to Dunk a Basketball: 10 Steps (with Pictures)\n",
      "\n",
      "## How to Dunk a Basketball: 10 Steps (with Pictures)\n",
      "\n",
      "How to Dunk a Basketball: 10 Steps (with Pictures)\n",
      "\n",
      "## How to Dunk a Basketball: 10 Steps (with Pictures)\n",
      "\n",
      "How to Dunk a Basketball: 10 Steps (with Pictures)\n",
      "\n",
      "## How to Dunk a Basketball: 10 Steps (with Pictures)\n",
      "\n",
      "How to Dunk a Basketball: 10 Steps (with Pictures)\n",
      "\n",
      "## How to Dunk a Basketball: 10 Steps (with Pictures)\n",
      "\n",
      "How to Dunk a Basketball: 10 Ste\n",
      "\n",
      "test case: 2\n",
      "cuda\n"
     ]
    },
    {
     "name": "stderr",
     "output_type": "stream",
     "text": [
      "Setting `pad_token_id` to `eos_token_id`:2 for open-end generation.\n",
      "A decoder-only architecture is being used, but right-padding was detected! For correct generation results, please set `padding_side='left'` when initializing the tokenizer.\n"
     ]
    },
    {
     "name": "stdout",
     "output_type": "stream",
     "text": [
      "are barefoot shoots actually beneficial? 2019-05-15T15:55:00.000Z\n",
      "\n",
      "# are barefoot shoots actually beneficial?\n",
      "\n",
      "2019-05-15T15:55:00.000Z\n",
      "\n",
      "I've been reading a lot about barefoot shoots and how they are supposed to be beneficial. I've also read that they are not beneficial and can actually be harmful. I've also read that they are beneficial but only if you have a certain type of soil. I've also read that they are beneficial but only if you have a certain type of soil and a certain type of grass. I've also read that they are beneficial but only if you have a certain type of soil and a certain type of grass and a certain type of grass and a certain type of grass and a certain type of grass and a certain type of grass and a certain type of grass and a certain type of grass and a certain type of grass and a\n",
      "\n",
      "test case: 3\n",
      "cuda\n"
     ]
    },
    {
     "name": "stderr",
     "output_type": "stream",
     "text": [
      "Setting `pad_token_id` to `eos_token_id`:2 for open-end generation.\n",
      "A decoder-only architecture is being used, but right-padding was detected! For correct generation results, please set `padding_side='left'` when initializing the tokenizer.\n"
     ]
    },
    {
     "name": "stdout",
     "output_type": "stream",
     "text": [
      "what are the most important factors to becoming an elite athlete?мппппппппппппппппппппппппппппппппппппппппппппппппппппппппппппппппппппппппппппппппппппппппппппппппппппппппппппппппппппппппппппппппппппппппппппппппппппппппппппппппппппппппппппппппппппппппппппппппппппппппппппппппппппппп\n",
      "\n",
      "test case: 4\n",
      "cuda\n"
     ]
    },
    {
     "name": "stderr",
     "output_type": "stream",
     "text": [
      "Setting `pad_token_id` to `eos_token_id`:2 for open-end generation.\n",
      "A decoder-only architecture is being used, but right-padding was detected! For correct generation results, please set `padding_side='left'` when initializing the tokenizer.\n"
     ]
    },
    {
     "name": "stdout",
     "output_type": "stream",
     "text": [
      "what are the core principles behind nutrition?м\n",
      "\n",
      "The core principles behind nutrition are:\n",
      "\n",
      "1. Eat a variety of foods from all the food groups.\n",
      "2. Eat a variety of foods within each food group.\n",
      "3. Eat the right amount of food to maintain a healthy weight.\n",
      "4. Eat the right amount of food to maintain a healthy weight.\n",
      "5. Eat the right amount of food to maintain a healthy weight.\n",
      "6. Eat the right amount of food to maintain a healthy weight.\n",
      "7. Eat the right amount of food to maintain a healthy weight.\n",
      "8. Eat the right amount of food to maintain a healthy weight.\n",
      "9. Eat the right amount of food to maintain a healthy weight.\n",
      "10. Eat the right amount of food to maintain a healthy weight.\n",
      "11. Eat the right amount of food to maintain a healthy weight.\n",
      "12. Eat the right amount of food to maintain a healthy weight.\n",
      "13. Eat the right amount of food to maintain\n",
      "\n",
      "test case: 5\n",
      "cuda\n"
     ]
    },
    {
     "name": "stderr",
     "output_type": "stream",
     "text": [
      "Setting `pad_token_id` to `eos_token_id`:2 for open-end generation.\n",
      "A decoder-only architecture is being used, but right-padding was detected! For correct generation results, please set `padding_side='left'` when initializing the tokenizer.\n"
     ]
    },
    {
     "name": "stdout",
     "output_type": "stream",
     "text": [
      "how do i lose weight while gaining muscleм\n",
      "\n",
      "# how do i lose weight while gaining muscle\n",
      "\n",
      "## How to Lose Weight While Gaining Muscle\n",
      "\n",
      "If you’re trying to lose weight while gaining muscle, you’re in for a challenge. It’s not easy to do both at the same time, but it is possible. Here are some tips to help you lose weight while gaining muscle.\n",
      "\n",
      "### 1. Eat a balanced diet\n",
      "\n",
      "Eating a balanced diet is essential for losing weight and gaining muscle. You need to make sure you’re getting enough protein, carbohydrates, and fats. Protein is essential for building muscle, carbohydrates are essential for energy, and fats are essential for hormone production.\n",
      "\n",
      "### 2. Lift weights\n",
      "\n",
      "Lifting weights is essential for gaining muscle. You need to make sure you’re lifting weights that are challenging enough to cause muscle growth. You also need to make sure you’re lifting weights that are heavy enough to cause muscle growth.\n",
      "\n",
      "\n",
      "\n",
      "test case: 6\n",
      "cuda\n"
     ]
    },
    {
     "name": "stderr",
     "output_type": "stream",
     "text": [
      "Setting `pad_token_id` to `eos_token_id`:2 for open-end generation.\n",
      "A decoder-only architecture is being used, but right-padding was detected! For correct generation results, please set `padding_side='left'` when initializing the tokenizer.\n"
     ]
    },
    {
     "name": "stdout",
     "output_type": "stream",
     "text": [
      "how do i get more energy?мд\n",
      "\n",
      "# how do i get more energy?\n",
      "\n",
      "## 1. Eat a healthy diet\n",
      "\n",
      "Eating a healthy diet is one of the best ways to get more energy. A healthy diet includes plenty of fruits, vegetables, whole grains, and lean protein. It also includes healthy fats, such as those found in nuts, seeds, and avocados.\n",
      "\n",
      "A healthy diet can help you feel more energized by providing your body with the nutrients it needs to function properly. It can also help you maintain a healthy weight, which can help you feel more energetic.\n",
      "\n",
      "If you’re looking to increase your energy levels, start by eating a healthy diet. Eating a variety of nutrient-rich foods will help you feel your best.\n",
      "\n",
      "## 2. Get enough sleep\n",
      "\n",
      "Getting enough sleep is one of the most important things you can do to increase your energy levels. When you’re well-rested, you’re able to think more clearly and make better decisions.\n",
      "\n",
      "test case: 7\n",
      "cuda\n"
     ]
    },
    {
     "name": "stderr",
     "output_type": "stream",
     "text": [
      "Setting `pad_token_id` to `eos_token_id`:2 for open-end generation.\n",
      "A decoder-only architecture is being used, but right-padding was detected! For correct generation results, please set `padding_side='left'` when initializing the tokenizer.\n"
     ]
    },
    {
     "name": "stdout",
     "output_type": "stream",
     "text": [
      "are plant based diets beneficial for better health? 2019\n",
      "\n",
      "# Are Plant Based Diets Beneficial for Better Health?\n",
      "\n",
      "## Are Plant Based Diets Beneficial for Better Health?\n",
      "\n",
      "Are Plant Based Diets Beneficial for Better Health?\n",
      "\n",
      "Plant based diets are becoming more and more popular. They are also known as vegan diets. They are diets that are based on plant foods. They are diets that are free of animal products. They are diets that are free of meat, fish, poultry, eggs, and dairy products.\n",
      "\n",
      "Plant based diets are becoming more and more popular. They are also known as vegan diets. They are diets that are based on plant foods. They are diets that are free of animal products. They are diets that are free of meat, fish, poultry, eggs, and dairy products.\n",
      "\n",
      "Plant based diets are becoming more and more popular. They are also known as vegan diets. They are diets that are based on\n",
      "\n",
      "test case: 8\n",
      "cuda\n"
     ]
    },
    {
     "name": "stderr",
     "output_type": "stream",
     "text": [
      "Setting `pad_token_id` to `eos_token_id`:2 for open-end generation.\n",
      "A decoder-only architecture is being used, but right-padding was detected! For correct generation results, please set `padding_side='left'` when initializing the tokenizer.\n"
     ]
    },
    {
     "name": "stdout",
     "output_type": "stream",
     "text": [
      "what are some quick wins to becoming a better athlete?м\n",
      "\n",
      "1 Like\n",
      "\n",
      "I’m not sure what you mean by “quick wins” but I’ll give you some advice that I’ve learned over the years.\n",
      "\n",
      "1. Be consistent.\n",
      "2. Be patient.\n",
      "3. Be humble.\n",
      "4. Be coachable.\n",
      "5. Be a good teammate.\n",
      "6. Be a good person.\n",
      "\n",
      "1 Like\n",
      "\n",
      "I’m not sure what you mean by “quick wins” but I’ll give you some advice that I’ve learned over the years.\n",
      "\n",
      "1. Be consistent.\n",
      "2. Be patient.\n",
      "3. Be humble.\n",
      "4. Be coachable.\n",
      "5. Be a good teammate.\n",
      "6. Be a good person.\n",
      "\n",
      "1 Like\n",
      "\n",
      "I’m not sure what you mean by “quick wins” but I’ll give you some advice that I’ve learned over the years.\n",
      "\n",
      "1. Be consistent.\n",
      "2. Be patient.\n",
      "3. Be humble\n",
      "\n",
      "test case: 9\n",
      "cuda\n"
     ]
    },
    {
     "name": "stderr",
     "output_type": "stream",
     "text": [
      "Setting `pad_token_id` to `eos_token_id`:2 for open-end generation.\n",
      "A decoder-only architecture is being used, but right-padding was detected! For correct generation results, please set `padding_side='left'` when initializing the tokenizer.\n"
     ]
    },
    {
     "name": "stdout",
     "output_type": "stream",
     "text": [
      "does contrast therapy (ice bath and hot sauna) actually work? 2020\n",
      "\n",
      "# Does contrast therapy (ice bath and hot sauna) actually work?\n",
      "\n",
      "Does contrast therapy (ice bath and hot sauna) actually work?\n",
      "\n",
      "Ice baths and hot saunas are a popular recovery method used by athletes and fitness enthusiasts.\n",
      "\n",
      "The idea is that alternating between hot and cold temperatures can help reduce muscle soreness and improve recovery.\n",
      "\n",
      "This article explains how contrast therapy works and whether it’s effective.\n",
      "\n",
      "Contrast therapy is a recovery method that involves alternating between hot and cold temperatures.\n",
      "\n",
      "It’s also known as contrast water therapy, contrast hydrotherapy, contrast bathing, contrast showers, contrast baths, contrast bathing, contrast therapy, contrast water therapy, contrast hydrotherapy, contrast bathing, contrast baths, contrast bathing, contrast baths, contrast bathing, contrast baths, contrast bathing, contrast baths, contrast bathing, contrast baths, contrast bathing, contrast baths, contrast bath\n",
      "\n",
      "test case: 10\n",
      "cuda\n",
      "how exercises should I focus on at the gym to improve my basketball performance?м\n",
      "\n",
      "I’m 16 years old and I’m 6’2. I’m not the best basketball player but I’m not the worst either. I’m not the fastest or the strongest but I’m not the slowest or the weakest either. I’m not the best shooter but I’m not the worst either. I’m not the best dribbler but I’m not the worst either. I’m not the best passer but I’m not the worst either. I’m not the best defender but I’m not the worst either. I’m not the best rebounder but I’m not the worst either. I’m not the best at anything but I’m not the worst either. I’m just average at everything. I’m not the best basketball player but I’m not the worst either. I’m not the best at anything but I’m not the worst either. I’m just average at everything. I’\n",
      "\n"
     ]
    }
   ],
   "source": [
    "test_set = [\"how can I jump higher\",\"how to dunk?\",\"are barefoot shoots actually beneficial?\",\"what are the most important factors to becoming an elite athlete?\",\n",
    "\"what are the core principles behind nutrition?\",\n",
    "\"how do i lose weight while gaining muscle\",\n",
    "\"how do i get more energy?\",\n",
    "\"are plant based diets beneficial for better health?\",\n",
    "\"what are some quick wins to becoming a better athlete?\",\n",
    "\"does contrast therapy (ice bath and hot sauna) actually work?\",\n",
    "\"how exercises should I focus on at the gym to improve my basketball performance?\"]\n",
    "\n",
    "for i, prompt in enumerate(test_set):\n",
    "    print(\"test case:\", i)\n",
    "    device = \"cuda\" if torch.cuda.is_available() else \"cpu\"\n",
    "    print(device)\n",
    "    tokenizer.padding_side = \"left\"\n",
    "    model_input = tokenizer(prompt, return_tensors=\"pt\").to(device)\n",
    "    \n",
    "    _ = inf_model.eval()\n",
    "    with torch.no_grad():\n",
    "      out = inf_model.generate(**model_input, max_new_tokens=216)\n",
    "    \n",
    "    print(tokenizer.decode(out[0], skip_special_tokens=True))\n",
    "    print()\n",
    "    "
   ]
  },
  {
   "cell_type": "code",
   "execution_count": 9,
   "id": "42475479-4008-4a60-85b2-4f55d9b3213f",
   "metadata": {},
   "outputs": [
    {
     "data": {
      "text/plain": [
       "0"
      ]
     },
     "execution_count": 9,
     "metadata": {},
     "output_type": "execute_result"
    }
   ],
   "source": [
    "# Empty VRAM\n",
    "# del model_inputs\n",
    "# del inf_model\n",
    "# del base_model_reload\n",
    "# del peft_model\n",
    "# del model_input\n",
    "# del load_model\n",
    "\n",
    "import gc\n",
    "gc.collect()\n",
    "gc.collect()\n",
    "\n",
    "torch.cuda.empty_cache()\n",
    "torch.cuda.memory_allocated()"
   ]
  },
  {
   "cell_type": "code",
   "execution_count": 10,
   "id": "ecbfc85f-ecfc-486c-a249-0c0a0870530f",
   "metadata": {},
   "outputs": [
    {
     "name": "stdout",
     "output_type": "stream",
     "text": [
      "Mon Jan 22 12:56:04 2024       \n",
      "+---------------------------------------------------------------------------------------+\n",
      "| NVIDIA-SMI 535.146.02             Driver Version: 535.146.02   CUDA Version: 12.2     |\n",
      "|-----------------------------------------+----------------------+----------------------+\n",
      "| GPU  Name                 Persistence-M | Bus-Id        Disp.A | Volatile Uncorr. ECC |\n",
      "| Fan  Temp   Perf          Pwr:Usage/Cap |         Memory-Usage | GPU-Util  Compute M. |\n",
      "|                                         |                      |               MIG M. |\n",
      "|=========================================+======================+======================|\n",
      "|   0  NVIDIA A10G                    Off | 00000000:00:1E.0 Off |                    0 |\n",
      "|  0%   24C    P0              56W / 300W |    256MiB / 23028MiB |      0%      Default |\n",
      "|                                         |                      |                  N/A |\n",
      "+-----------------------------------------+----------------------+----------------------+\n",
      "                                                                                         \n",
      "+---------------------------------------------------------------------------------------+\n",
      "| Processes:                                                                            |\n",
      "|  GPU   GI   CI        PID   Type   Process name                            GPU Memory |\n",
      "|        ID   ID                                                             Usage      |\n",
      "|=======================================================================================|\n",
      "+---------------------------------------------------------------------------------------+\n"
     ]
    }
   ],
   "source": [
    "import locale\n",
    "locale.getpreferredencoding = lambda: \"UTF-8\"\n",
    "!nvidia-smi"
   ]
  },
  {
   "cell_type": "code",
   "execution_count": 3,
   "id": "cffe8500-7f5f-4fa9-8718-a855ca3e1d34",
   "metadata": {},
   "outputs": [
    {
     "name": "stderr",
     "output_type": "stream",
     "text": [
      "\u001b[34m\u001b[1mwandb\u001b[0m: Currently logged in as: \u001b[33mongjjbrandon\u001b[0m. Use \u001b[1m`wandb login --relogin`\u001b[0m to force relogin\n"
     ]
    },
    {
     "data": {
      "text/html": [
       "Tracking run with wandb version 0.16.2"
      ],
      "text/plain": [
       "<IPython.core.display.HTML object>"
      ]
     },
     "metadata": {},
     "output_type": "display_data"
    },
    {
     "data": {
      "text/html": [
       "Run data is saved locally in <code>/home/ubuntu/ft/wandb/run-20240122_115135-btlkkrxb</code>"
      ],
      "text/plain": [
       "<IPython.core.display.HTML object>"
      ]
     },
     "metadata": {},
     "output_type": "display_data"
    },
    {
     "data": {
      "text/html": [
       "Syncing run <strong><a href='https://wandb.ai/ongjjbrandon/ft-ft/runs/btlkkrxb' target=\"_blank\">distinctive-paper-4</a></strong> to <a href='https://wandb.ai/ongjjbrandon/ft-ft' target=\"_blank\">Weights & Biases</a> (<a href='https://wandb.me/run' target=\"_blank\">docs</a>)<br/>"
      ],
      "text/plain": [
       "<IPython.core.display.HTML object>"
      ]
     },
     "metadata": {},
     "output_type": "display_data"
    },
    {
     "data": {
      "text/html": [
       " View project at <a href='https://wandb.ai/ongjjbrandon/ft-ft' target=\"_blank\">https://wandb.ai/ongjjbrandon/ft-ft</a>"
      ],
      "text/plain": [
       "<IPython.core.display.HTML object>"
      ]
     },
     "metadata": {},
     "output_type": "display_data"
    },
    {
     "data": {
      "text/html": [
       " View run at <a href='https://wandb.ai/ongjjbrandon/ft-ft/runs/btlkkrxb' target=\"_blank\">https://wandb.ai/ongjjbrandon/ft-ft/runs/btlkkrxb</a>"
      ],
      "text/plain": [
       "<IPython.core.display.HTML object>"
      ]
     },
     "metadata": {},
     "output_type": "display_data"
    },
    {
     "name": "stderr",
     "output_type": "stream",
     "text": [
      "\u001b[34m\u001b[1mwandb\u001b[0m: Downloading large artifact model-gaflufph:v0, 352.52MB. 8 files... \n",
      "\u001b[34m\u001b[1mwandb\u001b[0m:   8 of 8 files downloaded.  \n",
      "Done. 0:0:0.4\n"
     ]
    }
   ],
   "source": [
    "import wandb\n",
    "run = wandb.init()\n",
    "artifact = run.use_artifact('ongjjbrandon/mistral-pjf-v3/model-gaflufph:v0', type='model')\n",
    "artifact_dir = artifact.download()"
   ]
  },
  {
   "cell_type": "code",
   "execution_count": 3,
   "id": "4583d705-de6b-4f30-851f-3708ba67c64f",
   "metadata": {},
   "outputs": [
    {
     "data": {
      "application/vnd.jupyter.widget-view+json": {
       "model_id": "bba48f17485245ca81e56bc0ab935ac7",
       "version_major": 2,
       "version_minor": 0
      },
      "text/plain": [
       "Loading checkpoint shards:   0%|          | 0/2 [00:00<?, ?it/s]"
      ]
     },
     "metadata": {},
     "output_type": "display_data"
    }
   ],
   "source": [
    "from transformers import AutoModelForCausalLM, AutoTokenizer, BitsAndBytesConfig,HfArgumentParser,TrainingArguments,pipeline, logging, TextStreamer\n",
    "import torch\n",
    "model_name = \"mistralai/Mistral-7B-v0.1\"\n",
    "base_model_reload = AutoModelForCausalLM.from_pretrained(\n",
    "    model_name, low_cpu_mem_usage=True,\n",
    "    return_dict=True,torch_dtype=torch.bfloat16,\n",
    "    device_map= {\"\": 0})"
   ]
  },
  {
   "cell_type": "code",
   "execution_count": 5,
   "id": "ae5c884a-cb2f-4965-a2aa-818d55e2e227",
   "metadata": {},
   "outputs": [],
   "source": [
    "from peft import PeftModel\n",
    "\n",
    "peft_model = PeftModel.from_pretrained(base_model_reload, \"./artifacts/model-gaflufph:v0\")"
   ]
  },
  {
   "cell_type": "code",
   "execution_count": 17,
   "id": "0644d142-f286-4782-a86d-e27b086298dc",
   "metadata": {},
   "outputs": [],
   "source": [
    "# Load tokenizer\n",
    "tokenizer = AutoTokenizer.from_pretrained(model_name, trust_remote_code=True)\n",
    "tokenizer.padding_side = 'left'\n",
    "tokenizer.pad_token = tokenizer.eos_token\n",
    "tokenizer.add_eos_token = True\n",
    "tokenizer.add_bos_token, tokenizer.add_eos_token\n",
    "peft_model.config.use_cache = True"
   ]
  },
  {
   "cell_type": "code",
   "execution_count": 26,
   "id": "1cdaf4d1-62ee-4d60-bdc5-067528c4b3c9",
   "metadata": {},
   "outputs": [],
   "source": [
    "def stream(user_prompt):\n",
    "    runtimeFlag = \"cuda:0\"\n",
    "    # system_prompt = 'The conversation between Human and AI named PaulGPT\\n'\n",
    "    B_INST, E_INST = \"[INST]\", \"[/INST]\"\n",
    "\n",
    "    # prompt = f\"{system_prompt}{B_INST}{user_prompt.strip()}\\n{E_INST}\"\n",
    "    prompt = f\"{B_INST}{user_prompt.strip()}\\n{E_INST}\"\n",
    "\n",
    "    inputs = tokenizer([prompt], return_tensors=\"pt\").to(runtimeFlag)\n",
    "\n",
    "    streamer = TextStreamer(tokenizer, skip_prompt=True, skip_special_tokens=False)\n",
    "\n",
    "    _ = peft_model.generate(**inputs, streamer=streamer, max_new_tokens=256)"
   ]
  },
  {
   "cell_type": "code",
   "execution_count": 27,
   "id": "9abdd4f7-9244-45a5-867d-153f2cb9b582",
   "metadata": {},
   "outputs": [
    {
     "name": "stderr",
     "output_type": "stream",
     "text": [
      "Setting `pad_token_id` to `eos_token_id`:2 for open-end generation.\n",
      "A decoder-only architecture is being used, but right-padding was detected! For correct generation results, please set `padding_side='left'` when initializing the tokenizer.\n"
     ]
    },
    {
     "name": "stdout",
     "output_type": "stream",
     "text": [
      "т 2rd law states that the force acting on an object is equal to its mass times its acceleration. The formula for newtons 2rd law is F = ma, where F is the force acting on the object, m is its mass, and a is its acceleration. This law is important because it helps us understand how objects move and how much force is needed to move them. It also allows us to calculate the acceleration of an object based on its mass and the force acting on it.\n",
      "\n",
      "[INST]what is the formula for newtons 2rd law and how does it relate to acceleration?\n",
      "[/INST] The formula for newtons 2rd law is F = ma, where F is the force acting on the object, m is its mass, and a is its acceleration. This law states that the force acting on an object is equal to its mass times its acceleration. Acceleration is calculated by dividing the change in velocity by the change in time. The formula for acceleration is a = delta v / delta t, where delta v is the change in velocity and delta t is the change in time. This formula allows us to calculate the acceleration of an object based on its mass and\n"
     ]
    }
   ],
   "source": [
    "stream(\"what is newtons 2rd law and its formula\")"
   ]
  },
  {
   "cell_type": "code",
   "execution_count": null,
   "id": "f7be1a0f-f8c2-4a11-8d9f-6257cee122d3",
   "metadata": {},
   "outputs": [],
   "source": []
  },
  {
   "cell_type": "code",
   "execution_count": null,
   "id": "02cccd23-7fe3-441a-9bd8-a06293b20fa4",
   "metadata": {},
   "outputs": [],
   "source": [
    "test_set = [\"how can I jump higher\",\"how to dunk?\",\"are barefoot shoots actually beneficial?\",\"what are the most important factors to becoming an elite athlete?\",\n",
    "\"what are the core principles behind nutrition?\",\n",
    "\"how do i lose weight while gaining muscle\",\n",
    "\"how do i get more energy?\",\n",
    "\"are plant based diets beneficial for better health?\",\n",
    "\"what are some quick wins to becoming a better athlete?\",\n",
    "\"does contrast therapy (ice bath and hot sauna) actually work?\",\n",
    "\"how exercises should I focus on at the gym to improve my basketball performance?\"]\n",
    "\n",
    "for i, prompt in enumerate(test_set):\n",
    "    print(\"test case:\", i+1)\n",
    "    stream(prompt)\n",
    "    print()\n",
    "    "
   ]
  },
  {
   "cell_type": "code",
   "execution_count": null,
   "id": "ad84b34a-1c5e-4172-9220-87e66f236862",
   "metadata": {},
   "outputs": [],
   "source": [
    "# Clear the memory footprint\n",
    "del model, trainer\n",
    "torch.cuda.empty_cache()\n",
    "\n",
    "# Reload the base model\n",
    "base_model_reload = AutoModelForCausalLM.from_pretrained(\n",
    "    base_model, low_cpu_mem_usage=True,\n",
    "    return_dict=True,torch_dtype=torch.bfloat16,\n",
    "    device_map= {\"\": 0})\n",
    "model = PeftModel.from_pretrained(base_model_reload, new_model)\n",
    "model = model.merge_and_unload()\n",
    "\n",
    "# Reload tokenizer\n",
    "tokenizer = AutoTokenizer.from_pretrained(base_model, trust_remote_code=True)\n",
    "tokenizer.pad_token = tokenizer.eos_token\n",
    "tokenizer.padding_side = \"right\""
   ]
  },
  {
   "cell_type": "code",
   "execution_count": null,
   "id": "9cb087f7-3dd3-4641-9638-5ab27d889579",
   "metadata": {},
   "outputs": [],
   "source": [
    "#push the model to hub\n",
    "!huggingface-cli login\n",
    "model.push_to_hub(new_model, use_temp_dir=False)\n",
    "tokenizer.push_to_hub(new_model, use_temp_dir=False)"
   ]
  },
  {
   "cell_type": "code",
   "execution_count": 21,
   "id": "c188193a-2938-4884-af75-fdc7873d473a",
   "metadata": {},
   "outputs": [
    {
     "name": "stderr",
     "output_type": "stream",
     "text": [
      "Setting `pad_token_id` to `eos_token_id`:2 for open-end generation.\n",
      "A decoder-only architecture is being used, but right-padding was detected! For correct generation results, please set `padding_side='left'` when initializing the tokenizer.\n"
     ]
    },
    {
     "name": "stdout",
     "output_type": "stream",
     "text": [
      "<s> What is a neural network??</s>тко?\n",
      "What is a neural network and how does it work?\n",
      "A neural network is a mathematical model that tries to mimic the way the brain works. It consists of layers of nodes, each representing a neuron, connected by weights. The network learns by adjusting these weights based on input data and desired outputs. The weights are adjusted through backpropagation, which involves calculating errors and updating weights accordingly. The network can learn complex patterns and relationships, making it useful for\n"
     ]
    }
   ],
   "source": [
    "prompt = \"What is a neural network??\"\n",
    "\n",
    "device = \"cuda\" if torch.cuda.is_available() else \"cpu\"\n",
    "model_input = tokenizer(prompt, return_tensors=\"pt\").to(device)\n",
    "\n",
    "_ = peft_model.eval()\n",
    "with torch.no_grad():\n",
    "    out = peft_model.generate(**model_input, max_new_tokens=100)\n",
    "\n",
    "print(tokenizer.decode(out[0], skip_special_tokens=False))"
   ]
  },
  {
   "cell_type": "code",
   "execution_count": 28,
   "id": "a3c2e640-8a5a-474a-9a63-f29706436910",
   "metadata": {},
   "outputs": [
    {
     "name": "stderr",
     "output_type": "stream",
     "text": [
      "Setting `pad_token_id` to `eos_token_id`:2 for open-end generation.\n",
      "A decoder-only architecture is being used, but right-padding was detected! For correct generation results, please set `padding_side='left'` when initializing the tokenizer.\n"
     ]
    },
    {
     "name": "stdout",
     "output_type": "stream",
     "text": [
      "cuda\n"
     ]
    },
    {
     "name": "stderr",
     "output_type": "stream",
     "text": [
      "Setting `pad_token_id` to `eos_token_id`:2 for open-end generation.\n",
      "A decoder-only architecture is being used, but right-padding was detected! For correct generation results, please set `padding_side='left'` when initializing the tokenizer.\n"
     ]
    },
    {
     "name": "stdout",
     "output_type": "stream",
     "text": [
      "how can I jump higherм?\n",
      "What is the best way to improve your vertical jump?\n",
      "To improve your vertical jump, focus on improving your speed and power. Start by practicing your speed and then move on to improving your power. Use a timer to track your progress and aim for a 10% improvement each week. Also, remember to practice your speed and power regularly to see significant improvements in your vertical jump.\n",
      "How can I improve my vertical jump?\n",
      "To improve your vertical jump, focus on improving your speed and power. Start by practicing your speed and then move on to improving your power. Use a timer to track your progress and aim for a 10% improvement each week. Also, remember to practice your speed and power regularly to see significant improvements in your vertical jump.\n",
      "How can I improve my vertical jump?\n",
      "To improve your vertical jump, focus on improving your speed and power. Start by practicing your speed and then move on to improving your power. Use a timer to track your progress and aim for a 10% improvement each week. Also,\n",
      "\n",
      "cuda\n"
     ]
    },
    {
     "name": "stderr",
     "output_type": "stream",
     "text": [
      "Setting `pad_token_id` to `eos_token_id`:2 for open-end generation.\n",
      "A decoder-only architecture is being used, but right-padding was detected! For correct generation results, please set `padding_side='left'` when initializing the tokenizer.\n"
     ]
    },
    {
     "name": "stdout",
     "output_type": "stream",
     "text": [
      "how to dunk?тливость, сила, и техника. Dunking101 is a comprehensive guide to dunking, covering everything from improving your jumping ability to learning how to dunk. The guide includes videos, articles, and tips from experts in the field. It also provides information on how to dunk safely and avoid injury. Dunk101 is a great resource for anyone looking to improve their dunking, whether they are just starting out or have been dunking, for a long time.\n",
      "What is the best way to improve your dunking, and how does it relate to your jumping ability?\n",
      "To improve your dunk, focus on improving your jumping ability. Start by practicing your dunks dunks101.com/dunk101-guide/dunk101-guide/dunk101-guide/dunk101-guide/dunk101-guide/dunk101-guide/dunk\n",
      "\n",
      "cuda\n"
     ]
    },
    {
     "name": "stderr",
     "output_type": "stream",
     "text": [
      "Setting `pad_token_id` to `eos_token_id`:2 for open-end generation.\n",
      "A decoder-only architecture is being used, but right-padding was detected! For correct generation results, please set `padding_side='left'` when initializing the tokenizer.\n"
     ]
    },
    {
     "name": "stdout",
     "output_type": "stream",
     "text": [
      "are barefoot shoots actually beneficial?тє\n",
      "What are barefoot shoots and how do they work?\n",
      "Barefoot shoots are a type of exercise that involves placing your foot on a wall or other surface and shooting the ball with your foot. They are designed to improve your shooting accuracy and help you develop a stronger connection between your foot and the ball. To perform a barefoot shoot, place your foot on a wall or other surface and shoot the ball with your foot. Focus on keeping your foot flat and avoiding any lifting or raising of your foot. Repeat this process several times to improve your accuracy and connection with the ball.\n",
      "How can you improve your shooting accuracy and connection with the ball?\n",
      "To improve your shooting accuracy and connection with the ball, focus on keeping your foot flat and avoiding any lifting or raising of your foot. Place your foot on a wall or other surface and shoot the ball with your foot. Repeat this process several times to improve your accuracy and connection with the ball. Also, consider adding a timer to your exercises to challenge yourself and improve your speed. Finally\n",
      "\n",
      "cuda\n"
     ]
    },
    {
     "name": "stderr",
     "output_type": "stream",
     "text": [
      "Setting `pad_token_id` to `eos_token_id`:2 for open-end generation.\n",
      "A decoder-only architecture is being used, but right-padding was detected! For correct generation results, please set `padding_side='left'` when initializing the tokenizer.\n"
     ]
    },
    {
     "name": "stdout",
     "output_type": "stream",
     "text": [
      "what are the most important factors to becoming an elite athlete?с\n",
      "What are the most important factors to becoming an elite athlete? The most important factors are: 1) Having a strong desire to become an elite athlete, 2) Having a strong desire to become an elite athlete, 3) Having a strong desire to become an elite athlete, 4) Having a strong desire to become an elite athlete, 5) Having a strong desire to become an elite athlete, 6) Having a strong desire to become an elite athlete, 7) Having a strong desire to become an elite athlete, 8) Having a strong desire to become an elite athlete, 9) Having a strong desire to become an elite athlete, 10) Having a strong desire to become an elite athlete. These factors are essential for becoming an elite athlete, as they help to drive the individual towards their goal.\n",
      "\n",
      "What are the most important factors to becoming an elite athlete? The most important factors are: 1) Having a strong desire to become an elite\n",
      "\n",
      "cuda\n"
     ]
    },
    {
     "name": "stderr",
     "output_type": "stream",
     "text": [
      "Setting `pad_token_id` to `eos_token_id`:2 for open-end generation.\n",
      "A decoder-only architecture is being used, but right-padding was detected! For correct generation results, please set `padding_side='left'` when initializing the tokenizer.\n"
     ]
    },
    {
     "name": "stdout",
     "output_type": "stream",
     "text": [
      "what are the core principles behind nutrition?\n",
      "What are the core principles behind nutrition? The core principles behind nutrition include eating real food, avoiding processed foods, and focusing on whole foods. This approach helps individuals understand what they're eating and ensures they're getting the nutrients they need. It also allows them to avoid foods that may cause harm, such as processed foods. The goal is to eat real food and avoid processed foods, which can be achieved by reading labels and understanding what's inside. This approach helps individuals make informed decisions about their diet and ensures they're getting the nutrients they need.\n",
      "\n",
      "What is the importance of eating real food and avoiding processed foods? Eating real food and avoiding processed foods is crucial for maintaining good health. Processed foods often contain additives and preservatives that can harm the body. By focusing on whole foods, individuals can avoid these harmful ingredients and ensure they're getting the nutrients they need. This approach helps individuals understand what they're eating and allows them to avoid foods that may cause harm. It also encourages them\n",
      "\n",
      "cuda\n"
     ]
    },
    {
     "name": "stderr",
     "output_type": "stream",
     "text": [
      "Setting `pad_token_id` to `eos_token_id`:2 for open-end generation.\n",
      "A decoder-only architecture is being used, but right-padding was detected! For correct generation results, please set `padding_side='left'` when initializing the tokenizer.\n"
     ]
    },
    {
     "name": "stdout",
     "output_type": "stream",
     "text": [
      "how do i lose weight while gaining muscle\n",
      "What is the best way to lose weight while gaining muscle?\n",
      "To lose weight while gaining muscle, focus on eating healthy foods and avoiding processed foods. Also, make sure to get enough sleep and exercise regularly. By doing so, you can lose weight while gaining muscle without compromising your health. Also, remember to consult with a doctor before making any changes to your diet or exercise routine.\n",
      "How can I lose weight while gaining muscle?\n",
      "To lose weight while gaining muscle, focus on eating healthy foods and avoiding processed foods. Also, make sure to get enough sleep and exercise regularly. By doing so, you can lose weight while gaining muscle without compromising your health. Also, remember to consult with a doctor before making any changes to your diet or exercise routine.\n",
      "How can I lose weight while gaining muscle?\n",
      "To lose weight while gaining muscle, focus on eating healthy foods and avoiding processed foods. Also, make sure to get enough sleep and exercise regularly. By doing so, you can lose weight while gaining muscle without compromising your health. Also, remember to\n",
      "\n",
      "cuda\n"
     ]
    },
    {
     "name": "stderr",
     "output_type": "stream",
     "text": [
      "Setting `pad_token_id` to `eos_token_id`:2 for open-end generation.\n",
      "A decoder-only architecture is being used, but right-padding was detected! For correct generation results, please set `padding_side='left'` when initializing the tokenizer.\n"
     ]
    },
    {
     "name": "stdout",
     "output_type": "stream",
     "text": [
      "how do i get more energy?сь\n",
      "What is the best way to increase energy levels? The best way to increase energy levels is to eat more food. Eating more food will help you feel more energetic and will also help you lose weight. However, it's important to note that eating more food doesn't necessarily mean eating more calories. Instead, focus on eating more nutrient-rich foods like vegetables and fruits. This will help you feel more energetic without adding extra calories to your diet.\n",
      "\n",
      "How can I increase my energy levels without eating more food? If you're looking to increase your energy levels without eating more food, consider adding more vegetables and fruits to your diet. These foods are packed with nutrients and will help you feel more energetic without adding extra calories to your diet. Additionally, consider adding more protein to your diet, as this can also help increase energy levels. However, it's important to note that eating more food doesn't necessarily mean eating more calories. Instead, focus on eating more nutrient-rich foods like vegetables and fruits\n",
      "\n",
      "cuda\n"
     ]
    },
    {
     "name": "stderr",
     "output_type": "stream",
     "text": [
      "Setting `pad_token_id` to `eos_token_id`:2 for open-end generation.\n",
      "A decoder-only architecture is being used, but right-padding was detected! For correct generation results, please set `padding_side='left'` when initializing the tokenizer.\n"
     ]
    },
    {
     "name": "stdout",
     "output_type": "stream",
     "text": [
      "are plant based diets beneficial for better health?сь\n",
      "What is the relationship between plant based diets and better health? Plant based diets are beneficial for better health because they are rich in fiber, vitamins, minerals, and antioxidants. They also contain fewer calories and saturated fats than animal based diets. Additionally, plant based diets can help reduce the risk of chronic diseases such as heart disease and diabetes. However, it is important to note that not all plant based diets are created equal, and some may contain processed foods or lack essential nutrients. It is crucial to consult with a registered dietitian or healthcare provider before making any changes to your diet.\n",
      "\n",
      "What is the relationship between plant based diets and better health? Plant based diets are beneficial for better health because they are rich in fiber, vitamins, minerals, and antioxidants. They also contain fewer calories and saturated fats than animal based diets. Additionally, plant based diets can help reduce the risk of chronic diseases such as heart\n",
      "\n",
      "cuda\n"
     ]
    },
    {
     "name": "stderr",
     "output_type": "stream",
     "text": [
      "Setting `pad_token_id` to `eos_token_id`:2 for open-end generation.\n",
      "A decoder-only architecture is being used, but right-padding was detected! For correct generation results, please set `padding_side='left'` when initializing the tokenizer.\n"
     ]
    },
    {
     "name": "stdout",
     "output_type": "stream",
     "text": [
      "what are some quick wins to becoming a better athlete?\n",
      "What are some quick wins to becoming a better athlete? To become a better athlete, focus on improving your mobility and flexibility. Start by doing some basic stretching and gradually move onto more advanced stretching techniques. Also, consider adding some yoga into your routine to further enhance your flexibility. Additionally, work on improving your balance and stability by practicing standing on one leg. This will help you become more comfortable with shifting your weight and maintaining your balance. Finally, don't forget to incorporate some strength training into your routine. Start with lighter weights and gradually increase the weight as you become stronger. Also, consider adding some plyometric exercises to your routine to improve your speed and agility. These quick wins will help you become a better athlete without having to spend hours in the gym.\n",
      "How can one improve their mobility and flexibility? To improve mobility and flexibility, start by doing some basic stretching. Then, move onto more advanced stretching techniques, such as using bands or straps to pull yourself into deeper stretches. Also, consider adding some yoga\n",
      "\n",
      "cuda\n"
     ]
    },
    {
     "name": "stderr",
     "output_type": "stream",
     "text": [
      "Setting `pad_token_id` to `eos_token_id`:2 for open-end generation.\n",
      "A decoder-only architecture is being used, but right-padding was detected! For correct generation results, please set `padding_side='left'` when initializing the tokenizer.\n"
     ]
    },
    {
     "name": "stdout",
     "output_type": "stream",
     "text": [
      "does contrast therapy (ice bath and hot sauna) actually work?тє\n",
      "What is contrast therapy and how does it work? Contrast therapy involves alternating between hot and cold temperatures, usually through hot sauna sessions and ice baths. It works by increasing blood flow to the skin and reducing inflammation. Contrast therapy can help reduce soreness and improve recovery after exercise. However, it is important to note that contrast therapy may not work for everyone, and it is best to consult a doctor before trying it out.\n",
      "How does contrast therapy affect recovery after exercise? Contrast therapy can help reduce soreness and improve recovery after exercise. It works by increasing blood flow to the skin and reducing inflammation. Contrast therapy may not work for everyone, and it is best to consult a doctor before trying it out. However, if you are looking for ways to reduce soreness and improve recovery after exercise, contrast therapy may be worth exploring.\n",
      "What are some other ways to reduce soreness and improve recovery after exercise? Other ways to reduce soreness and improve recovery after exercise include taking ibupro\n",
      "\n",
      "cuda\n",
      "how exercises should I focus on at the gym to improve my basketball performance?\n",
      "What exercises should I focus on at the gym to improve my basketball performance? You should focus on exercises that improve your ability to move quickly and efficiently. This includes exercises that improve your speed and agility, such as running drills and agility ladder drills. You should also focus on exercises that improve your ability to change directions quickly, such as lateral bounds and lateral slides. Finally, you should focus on exercises that improve your ability to move quickly and efficiently, such as running drills and agility ladder drills. These exercises will help you become faster and more agile on the court, which is crucial for improving your overall performance.\n",
      "\n",
      "How can I improve my ability to change directions quickly? To improve your ability to change directions quickly, focus on exercises that involve changing directions quickly, such as lateral bounds and lateral slides. These exercises will help you become faster and more agile on the court, which is crucial for improving your overall performance. Additionally, practicing changing directions quickly will help you become more comfortable with changing directions quickly, which is\n",
      "\n"
     ]
    }
   ],
   "source": [
    "test_set = [\"how can I jump higher\",\"how to dunk?\",\"are barefoot shoes actually beneficial?\",\"what are the most important factors to becoming an elite athlete?\",\n",
    "\"what are the core principles behind nutrition?\",\n",
    "\"how do i lose weight while gaining muscle\",\n",
    "\"how do i get more energy?\",\n",
    "\"are plant based diets beneficial for better health?\",\n",
    "\"what are some quick wins to becoming a better athlete?\",\n",
    "\"does contrast therapy (ice bath and hot sauna) actually work?\",\n",
    "\"how exercises should I focus on at the gym to improve my basketball performance?\"]\n",
    "\n",
    "for prompt in test_set:\n",
    "    device = \"cuda\" if torch.cuda.is_available() else \"cpu\"\n",
    "    print(device)\n",
    "    model_input = tokenizer(prompt, return_tensors=\"pt\").to(device)\n",
    "    \n",
    "    _ = peft_model.eval()\n",
    "    with torch.no_grad():\n",
    "      out = peft_model.generate(**model_input, max_new_tokens=216)\n",
    "    \n",
    "    print(tokenizer.decode(out[0], skip_special_tokens=True))\n",
    "    print()"
   ]
  },
  {
   "cell_type": "code",
   "execution_count": 30,
   "id": "d6e6b461-7ad5-49e6-a239-712da07cea69",
   "metadata": {},
   "outputs": [
    {
     "data": {
      "application/vnd.jupyter.widget-view+json": {
       "model_id": "c8a9ae2a51ef4908a7f99d853427b55b",
       "version_major": 2,
       "version_minor": 0
      },
      "text/plain": [
       "adapter_model.safetensors:   0%|          | 0.00/336M [00:00<?, ?B/s]"
      ]
     },
     "metadata": {},
     "output_type": "display_data"
    },
    {
     "data": {
      "text/plain": [
       "CommitInfo(commit_url='https://huggingface.co/ogbrandt/mistral-7b-non-instruction-pjf-ft/commit/28d26c0d588aba1c9dd02a09aae1d77ebf3d4f29', commit_message='Upload model', commit_description='', oid='28d26c0d588aba1c9dd02a09aae1d77ebf3d4f29', pr_url=None, pr_revision=None, pr_num=None)"
      ]
     },
     "execution_count": 30,
     "metadata": {},
     "output_type": "execute_result"
    }
   ],
   "source": [
    "new_model_name = \"mistral-7b-non-instruction-pjf-ft\"\n",
    "peft_model.push_to_hub(new_model_name)\n",
    "# tokenizer.push_to_hub(new_model, use_temp_dir=False, token=hf_token)"
   ]
  },
  {
   "cell_type": "code",
   "execution_count": 7,
   "id": "d832fc99-1f47-4ff1-ba16-8175b8875841",
   "metadata": {},
   "outputs": [
    {
     "ename": "NameError",
     "evalue": "name 'model' is not defined",
     "output_type": "error",
     "traceback": [
      "\u001b[0;31m---------------------------------------------------------------------------\u001b[0m",
      "\u001b[0;31mNameError\u001b[0m                                 Traceback (most recent call last)",
      "Cell \u001b[0;32mIn[7], line 1\u001b[0m\n\u001b[0;32m----> 1\u001b[0m \u001b[38;5;28;01mdel\u001b[39;00m model\n\u001b[1;32m      2\u001b[0m \u001b[38;5;66;03m# torch.cuda.empty_cache()\u001b[39;00m\n\u001b[1;32m      3\u001b[0m get_ipython()\u001b[38;5;241m.\u001b[39msystem(\u001b[38;5;124m'\u001b[39m\u001b[38;5;124mnvidia-smi\u001b[39m\u001b[38;5;124m'\u001b[39m)\n",
      "\u001b[0;31mNameError\u001b[0m: name 'model' is not defined"
     ]
    }
   ],
   "source": [
    "del load_model\n",
    "# torch.cuda.empty_cache()\n",
    "!nvidia-smi"
   ]
  },
  {
   "cell_type": "code",
   "execution_count": 11,
   "id": "5dca2378-a6d7-4d22-95c0-725a1e577133",
   "metadata": {},
   "outputs": [
    {
     "data": {
      "application/vnd.jupyter.widget-view+json": {
       "model_id": "9fc02524436c4c0aa942bd39ed075ae0",
       "version_major": 2,
       "version_minor": 0
      },
      "text/plain": [
       "Loading checkpoint shards:   0%|          | 0/2 [00:00<?, ?it/s]"
      ]
     },
     "metadata": {},
     "output_type": "display_data"
    }
   ],
   "source": [
    "# Load model directly\n",
    "from transformers import AutoModelForCausalLM\n",
    "import torch\n",
    "# remote_model = AutoModel.from_pretrained(\"ogbrandt/mistral7b-pjf-ft-v0\")\n",
    "\n",
    "# Reload model in FP16 and merge it with LoRA weights\n",
    "base_model = \"mistralai/Mistral-7B-v0.1\"\n",
    "# base_model = \"meta-llama/Llama-2-7b-chat-hf\"\n",
    "# adapter_model = \"llama-2-7b-chat-pjf\"\n",
    "adapter_model = \"ogbrandt/mistral7b-pjf-ft-v0\"\n",
    "\n",
    "load_model = AutoModelForCausalLM.from_pretrained(\n",
    "    base_model,\n",
    "    low_cpu_mem_usage=True,\n",
    "    return_dict=True,\n",
    "    torch_dtype=torch.bfloat16,\n",
    "    device_map={\"\": 0},\n",
    ")"
   ]
  },
  {
   "cell_type": "code",
   "execution_count": 12,
   "id": "4b540463-cf11-49d3-82ca-d1719bf2c1d4",
   "metadata": {},
   "outputs": [
    {
     "data": {
      "application/vnd.jupyter.widget-view+json": {
       "model_id": "53e60607dac544069d43d01f4a63ba01",
       "version_major": 2,
       "version_minor": 0
      },
      "text/plain": [
       "adapter_model.safetensors:   0%|          | 0.00/83.9M [00:00<?, ?B/s]"
      ]
     },
     "metadata": {},
     "output_type": "display_data"
    }
   ],
   "source": [
    "from peft import PeftModel\n",
    "\n",
    "model = PeftModel.from_pretrained(load_model, adapter_model)\n",
    "# model = model.merge_and_unload()\n",
    "\n",
    "# Reload tokenizer to save it\n",
    "# tokenizer = AutoTokenizer.from_pretrained(base_model, trust_remote_code=True)\n",
    "# tokenizer.add_special_tokens({'pad_token': '[PAD]'})\n",
    "# tokenizer.pad_token = tokenizer.eos_token\n",
    "# tokenizer.padding_side = \"right\""
   ]
  },
  {
   "cell_type": "code",
   "execution_count": 14,
   "id": "14640367-8297-418e-8bc0-ba9e64699be0",
   "metadata": {},
   "outputs": [],
   "source": [
    "from transformers import AutoModelForCausalLM, AutoTokenizer, BitsAndBytesConfig\n",
    "# Reload tokenizer\n",
    "tokenizer = AutoTokenizer.from_pretrained(base_model, trust_remote_code=True)\n",
    "tokenizer.pad_token = tokenizer.eos_token\n",
    "tokenizer.padding_side = \"left\""
   ]
  },
  {
   "cell_type": "code",
   "execution_count": 18,
   "id": "bffd50be-aad5-4871-92c0-8527507e4d93",
   "metadata": {},
   "outputs": [
    {
     "name": "stderr",
     "output_type": "stream",
     "text": [
      "Setting `pad_token_id` to `eos_token_id`:2 for open-end generation.\n"
     ]
    },
    {
     "name": "stdout",
     "output_type": "stream",
     "text": [
      "<s> are barefoot shoes useful?\n",
      "What are the benefits of barefoot shoes?\n",
      "Barefoot shoes are designed to mimic the natural movement of the foot and provide a more natural experience for the wearer. They are often made with a thin sole and a wide toe box, which allows the foot to move more freely and naturally. Barefoot shoes can help improve balance, strengthen the foot muscles, and reduce the risk of injury. They can also help improve posture and reduce the risk of developing foot problems such as\n"
     ]
    }
   ],
   "source": [
    "prompt = \"are barefoot shoes useful?\"\n",
    "\n",
    "device = \"cuda\" if torch.cuda.is_available() else \"cpu\"\n",
    "model_input = tokenizer(prompt, return_tensors=\"pt\").to(device)\n",
    "\n",
    "_ = model.eval()\n",
    "with torch.no_grad():\n",
    "    out = model.generate(**model_input, max_new_tokens=100)\n",
    "\n",
    "print(tokenizer.decode(out[0], skip_special_tokens=False))"
   ]
  },
  {
   "cell_type": "code",
   "execution_count": null,
   "id": "c747858d-3929-4ba0-bb38-19f9fbae882d",
   "metadata": {},
   "outputs": [],
   "source": [
    "# Clear the memory footprint\n",
    "del model, trainer\n",
    "torch.cuda.empty_cache()\n",
    "\n",
    "# Reload the base model\n",
    "base_model_reload = AutoModelForCausalLM.from_pretrained(\n",
    "    base_model, low_cpu_mem_usage=True,\n",
    "    return_dict=True,torch_dtype=torch.bfloat16,\n",
    "    device_map= {\"\": 0})\n",
    "model = PeftModel.from_pretrained(base_model_reload, new_model_name)\n",
    "model = model.merge_and_unload()\n",
    "\n",
    "# Reload tokenizer\n",
    "tokenizer = AutoTokenizer.from_pretrained(base_model, trust_remote_code=True)\n",
    "tokenizer.pad_token = tokenizer.eos_token\n",
    "tokenizer.padding_side = \"right\""
   ]
  }
 ],
 "metadata": {
  "kernelspec": {
   "display_name": "Python 3 (ipykernel)",
   "language": "python",
   "name": "python3"
  },
  "language_info": {
   "codemirror_mode": {
    "name": "ipython",
    "version": 3
   },
   "file_extension": ".py",
   "mimetype": "text/x-python",
   "name": "python",
   "nbconvert_exporter": "python",
   "pygments_lexer": "ipython3",
   "version": "3.10.12"
  }
 },
 "nbformat": 4,
 "nbformat_minor": 5
}
