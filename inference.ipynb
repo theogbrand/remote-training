{
 "cells": [
  {
   "cell_type": "code",
   "execution_count": 3,
   "id": "8fcb4693-4bad-4931-a11b-ad86b4db5eb5",
   "metadata": {},
   "outputs": [
    {
     "name": "stdout",
     "output_type": "stream",
     "text": [
      "Collecting ipywidgets\n",
      "  Downloading ipywidgets-8.1.1-py3-none-any.whl (139 kB)\n",
      "\u001b[2K     \u001b[90m━━━━━━━━━━━━━━━━━━━━━━━━━━━━━━━━━━━━━━━\u001b[0m \u001b[32m139.4/139.4 kB\u001b[0m \u001b[31m4.3 MB/s\u001b[0m eta \u001b[36m0:00:00\u001b[0m\n",
      "\u001b[?25hCollecting widgetsnbextension~=4.0.9\n",
      "  Downloading widgetsnbextension-4.0.9-py3-none-any.whl (2.3 MB)\n",
      "\u001b[2K     \u001b[90m━━━━━━━━━━━━━━━━━━━━━━━━━━━━━━━━━━━━━━━━\u001b[0m \u001b[32m2.3/2.3 MB\u001b[0m \u001b[31m16.4 MB/s\u001b[0m eta \u001b[36m0:00:00\u001b[0m00:01\u001b[0m00:01\u001b[0m\n",
      "\u001b[?25hRequirement already satisfied: comm>=0.1.3 in /home/ubuntu/.pyenv/versions/3.10.13/lib/python3.10/site-packages (from ipywidgets) (0.2.1)\n",
      "Requirement already satisfied: ipython>=6.1.0 in /home/ubuntu/.pyenv/versions/3.10.13/lib/python3.10/site-packages (from ipywidgets) (8.20.0)\n",
      "Collecting jupyterlab-widgets~=3.0.9\n",
      "  Downloading jupyterlab_widgets-3.0.9-py3-none-any.whl (214 kB)\n",
      "\u001b[2K     \u001b[90m━━━━━━━━━━━━━━━━━━━━━━━━━━━━━━━━━━━━━━\u001b[0m \u001b[32m214.9/214.9 kB\u001b[0m \u001b[31m20.4 MB/s\u001b[0m eta \u001b[36m0:00:00\u001b[0m\n",
      "\u001b[?25hRequirement already satisfied: traitlets>=4.3.1 in /home/ubuntu/.pyenv/versions/3.10.13/lib/python3.10/site-packages (from ipywidgets) (5.14.1)\n",
      "Requirement already satisfied: matplotlib-inline in /home/ubuntu/.pyenv/versions/3.10.13/lib/python3.10/site-packages (from ipython>=6.1.0->ipywidgets) (0.1.6)\n",
      "Requirement already satisfied: decorator in /home/ubuntu/.pyenv/versions/3.10.13/lib/python3.10/site-packages (from ipython>=6.1.0->ipywidgets) (5.1.1)\n",
      "Requirement already satisfied: exceptiongroup in /home/ubuntu/.pyenv/versions/3.10.13/lib/python3.10/site-packages (from ipython>=6.1.0->ipywidgets) (1.2.0)\n",
      "Requirement already satisfied: jedi>=0.16 in /home/ubuntu/.pyenv/versions/3.10.13/lib/python3.10/site-packages (from ipython>=6.1.0->ipywidgets) (0.19.1)\n",
      "Requirement already satisfied: pygments>=2.4.0 in /home/ubuntu/.pyenv/versions/3.10.13/lib/python3.10/site-packages (from ipython>=6.1.0->ipywidgets) (2.17.2)\n",
      "Requirement already satisfied: stack-data in /home/ubuntu/.pyenv/versions/3.10.13/lib/python3.10/site-packages (from ipython>=6.1.0->ipywidgets) (0.6.3)\n",
      "Requirement already satisfied: prompt-toolkit<3.1.0,>=3.0.41 in /home/ubuntu/.pyenv/versions/3.10.13/lib/python3.10/site-packages (from ipython>=6.1.0->ipywidgets) (3.0.43)\n",
      "Requirement already satisfied: pexpect>4.3 in /home/ubuntu/.pyenv/versions/3.10.13/lib/python3.10/site-packages (from ipython>=6.1.0->ipywidgets) (4.9.0)\n",
      "Requirement already satisfied: parso<0.9.0,>=0.8.3 in /home/ubuntu/.pyenv/versions/3.10.13/lib/python3.10/site-packages (from jedi>=0.16->ipython>=6.1.0->ipywidgets) (0.8.3)\n",
      "Requirement already satisfied: ptyprocess>=0.5 in /home/ubuntu/.pyenv/versions/3.10.13/lib/python3.10/site-packages (from pexpect>4.3->ipython>=6.1.0->ipywidgets) (0.7.0)\n",
      "Requirement already satisfied: wcwidth in /home/ubuntu/.pyenv/versions/3.10.13/lib/python3.10/site-packages (from prompt-toolkit<3.1.0,>=3.0.41->ipython>=6.1.0->ipywidgets) (0.2.13)\n",
      "Requirement already satisfied: executing>=1.2.0 in /home/ubuntu/.pyenv/versions/3.10.13/lib/python3.10/site-packages (from stack-data->ipython>=6.1.0->ipywidgets) (2.0.1)\n",
      "Requirement already satisfied: asttokens>=2.1.0 in /home/ubuntu/.pyenv/versions/3.10.13/lib/python3.10/site-packages (from stack-data->ipython>=6.1.0->ipywidgets) (2.4.1)\n",
      "Requirement already satisfied: pure-eval in /home/ubuntu/.pyenv/versions/3.10.13/lib/python3.10/site-packages (from stack-data->ipython>=6.1.0->ipywidgets) (0.2.2)\n",
      "Requirement already satisfied: six>=1.12.0 in /home/ubuntu/.pyenv/versions/3.10.13/lib/python3.10/site-packages (from asttokens>=2.1.0->stack-data->ipython>=6.1.0->ipywidgets) (1.16.0)\n",
      "Installing collected packages: widgetsnbextension, jupyterlab-widgets, ipywidgets\n",
      "Successfully installed ipywidgets-8.1.1 jupyterlab-widgets-3.0.9 widgetsnbextension-4.0.9\n",
      "\n",
      "\u001b[1m[\u001b[0m\u001b[34;49mnotice\u001b[0m\u001b[1;39;49m]\u001b[0m\u001b[39;49m A new release of pip is available: \u001b[0m\u001b[31;49m23.0.1\u001b[0m\u001b[39;49m -> \u001b[0m\u001b[32;49m23.3.2\u001b[0m\n",
      "\u001b[1m[\u001b[0m\u001b[34;49mnotice\u001b[0m\u001b[1;39;49m]\u001b[0m\u001b[39;49m To update, run: \u001b[0m\u001b[32;49mpip install --upgrade pip\u001b[0m\n"
     ]
    }
   ],
   "source": [
    "# !pip install git+https://github.com/huggingface/transformers -qqq\n",
    "# !pip install datasets -qqq\n",
    "# !pip install bitsandbytes -qqq\n",
    "# !pip install huggingface_hub -qqq\n",
    "# !pip install peft -qqq\n",
    "# !pip install accelerate -qqq\n",
    "# !pip install bitsandbytes -qqq\n",
    "# !pip install trl -qqq\n",
    "# !pip install wandb -qqq\n",
    "# !pip install ipywidgets -qqq\n",
    "# !pip install -U \"huggingface_hub[cli]\""
   ]
  },
  {
   "cell_type": "code",
   "execution_count": 7,
   "id": "265d704e-cb0b-4335-808f-04810a14736b",
   "metadata": {},
   "outputs": [
    {
     "name": "stdout",
     "output_type": "stream",
     "text": [
      "ogbrandt\n"
     ]
    }
   ],
   "source": [
    "# login outside of jupyter notebook\n",
    "\n",
    "# !huggingface-cli whoami\n",
    "\n",
    "# import wandb\n",
    "# wandb.login()"
   ]
  },
  {
   "cell_type": "code",
   "execution_count": 33,
   "id": "295cf79c-b3db-48d5-94e0-26832de24979",
   "metadata": {},
   "outputs": [
    {
     "name": "stderr",
     "output_type": "stream",
     "text": [
      "Loading checkpoint shards: 100%|██████████| 2/2 [01:27<00:00, 43.52s/it]\n"
     ]
    },
    {
     "name": "stdout",
     "output_type": "stream",
     "text": [
      "<s> [INST] What is your favourite condiment? [/INST]  I'm just an AI, I don't have personal preferences or taste buds, but I can tell you about different types of condiments that people enjoy! Some popular condiments include:\n",
      " everybody loves ketchup, mustard, and mayonnaise. Other popular condiments include hot sauce, ranch dressing, hummus, and soy sauce. Some people also enjoy more unique condiments like sriracha, tahini, or gochujang. Ultimately, the best condiment is the one that you enjoy the most, so feel free to experiment and find your favorite!</s>\n"
     ]
    }
   ],
   "source": [
    "from transformers import AutoModelForCausalLM, AutoTokenizer, BitsAndBytesConfig\n",
    "import torch\n",
    "\n",
    "# model_name = \"mistralai/Mistral-7B-v0.1\"\n",
    "model_name = \"meta-llama/Llama-2-7b-chat-hf\"\n",
    "tokenizer = AutoTokenizer.from_pretrained(\n",
    "    \"meta-llama/Llama-2-7b-chat-hf\", \n",
    "    padding_side=\"right\",\n",
    "    add_eos_token=True,\n",
    "    add_bos_token=True,\n",
    "                                          )\n",
    "tokenizer.pad_token = tokenizer.eos_token\n",
    "\n",
    "bnb_config = BitsAndBytesConfig(\n",
    "    load_in_4bit=True,\n",
    "    bnb_4bit_use_double_quant=True,\n",
    "    bnb_4bit_quant_type=\"nf4\",\n",
    "    bnb_4bit_compute_dtype=torch.bfloat16,\n",
    ")\n",
    "\n",
    "\n",
    "inf_model = AutoModelForCausalLM.from_pretrained(\n",
    "    model_name,\n",
    "    quantization_config=bnb_config,\n",
    "    device_map=\"auto\",\n",
    ")\n",
    "\n",
    "messages = [\n",
    "    {\"role\": \"user\", \"content\": \"What is your favourite condiment?\"},\n",
    "]\n",
    "encodeds = tokenizer.apply_chat_template(messages, return_tensors=\"pt\")\n",
    "\n",
    "device = \"cuda\"\n",
    "model_inputs = encodeds.to(device)\n",
    "\n",
    "generated_ids = inf_model.generate(model_inputs, max_new_tokens=256, pad_token_id=tokenizer.pad_token_id)\n",
    "decoded = tokenizer.batch_decode(generated_ids)\n",
    "print(decoded[0])"
   ]
  },
  {
   "cell_type": "code",
   "execution_count": null,
   "id": "f2d56bf5-b1f2-430a-bee4-36b47cfbac23",
   "metadata": {},
   "outputs": [],
   "source": [
    "test_set = [\"how can I jump higher\",\"how to dunk?\",\"are barefoot shoots actually beneficial?\",\"what are the most important factors to becoming an elite athlete?\",\n",
    "\"what are the core principles behind nutrition?\",\n",
    "\"how do i lose weight while gaining muscle\",\n",
    "\"how do i get more energy?\",\n",
    "\"are plant based diets beneficial for better health?\",\n",
    "\"what are some quick wins to becoming a better athlete?\",\n",
    "\"does contrast therapy (ice bath and hot sauna) actually work?\",\n",
    "\"how exercises should I focus on at the gym to improve my basketball performance?\"]\n",
    "\n",
    "for prompt in test_set:\n",
    "    device = \"cuda\" if torch.cuda.is_available() else \"cpu\"\n",
    "    print(device)\n",
    "    model_input = tokenizer(prompt, return_tensors=\"pt\").to(device)\n",
    "    \n",
    "    _ = inf_model.eval()\n",
    "    with torch.no_grad():\n",
    "      out = inf_model.generate(**model_input, max_new_tokens=216)\n",
    "    \n",
    "    print(tokenizer.decode(out[0], skip_special_tokens=True))\n",
    "    print()\n",
    "    "
   ]
  },
  {
   "cell_type": "code",
   "execution_count": 25,
   "id": "42475479-4008-4a60-85b2-4f55d9b3213f",
   "metadata": {},
   "outputs": [
    {
     "data": {
      "text/plain": [
       "8529920"
      ]
     },
     "execution_count": 25,
     "metadata": {},
     "output_type": "execute_result"
    }
   ],
   "source": [
    "# Empty VRAM\n",
    "# del model_inputs\n",
    "# del inf_model\n",
    "\n",
    "import gc\n",
    "gc.collect()\n",
    "gc.collect()\n",
    "\n",
    "torch.cuda.empty_cache()\n",
    "torch.cuda.memory_allocated()"
   ]
  },
  {
   "cell_type": "code",
   "execution_count": 34,
   "id": "ecbfc85f-ecfc-486c-a249-0c0a0870530f",
   "metadata": {},
   "outputs": [
    {
     "name": "stdout",
     "output_type": "stream",
     "text": [
      "Mon Jan 22 07:36:57 2024       \n",
      "+---------------------------------------------------------------------------------------+\n",
      "| NVIDIA-SMI 535.146.02             Driver Version: 535.146.02   CUDA Version: 12.2     |\n",
      "|-----------------------------------------+----------------------+----------------------+\n",
      "| GPU  Name                 Persistence-M | Bus-Id        Disp.A | Volatile Uncorr. ECC |\n",
      "| Fan  Temp   Perf          Pwr:Usage/Cap |         Memory-Usage | GPU-Util  Compute M. |\n",
      "|                                         |                      |               MIG M. |\n",
      "|=========================================+======================+======================|\n",
      "|   0  NVIDIA A10G                    Off | 00000000:00:1E.0 Off |                    0 |\n",
      "|  0%   26C    P0              56W / 300W |   9106MiB / 23028MiB |      0%      Default |\n",
      "|                                         |                      |                  N/A |\n",
      "+-----------------------------------------+----------------------+----------------------+\n",
      "                                                                                         \n",
      "+---------------------------------------------------------------------------------------+\n",
      "| Processes:                                                                            |\n",
      "|  GPU   GI   CI        PID   Type   Process name                            GPU Memory |\n",
      "|        ID   ID                                                             Usage      |\n",
      "|=======================================================================================|\n",
      "+---------------------------------------------------------------------------------------+\n"
     ]
    },
    {
     "name": "stderr",
     "output_type": "stream",
     "text": [
      "huggingface/tokenizers: The current process just got forked, after parallelism has already been used. Disabling parallelism to avoid deadlocks...\n",
      "To disable this warning, you can either:\n",
      "\t- Avoid using `tokenizers` before the fork if possible\n",
      "\t- Explicitly set the environment variable TOKENIZERS_PARALLELISM=(true | false)\n"
     ]
    }
   ],
   "source": [
    "import locale\n",
    "locale.getpreferredencoding = lambda: \"UTF-8\"\n",
    "!nvidia-smi"
   ]
  },
  {
   "cell_type": "code",
   "execution_count": 28,
   "id": "cffe8500-7f5f-4fa9-8718-a855ca3e1d34",
   "metadata": {},
   "outputs": [
    {
     "data": {
      "text/html": [
       "Tracking run with wandb version 0.16.2"
      ],
      "text/plain": [
       "<IPython.core.display.HTML object>"
      ]
     },
     "metadata": {},
     "output_type": "display_data"
    },
    {
     "data": {
      "text/html": [
       "Run data is saved locally in <code>/home/ubuntu/ft/wandb/run-20240122_073015-3e0lg78i</code>"
      ],
      "text/plain": [
       "<IPython.core.display.HTML object>"
      ]
     },
     "metadata": {},
     "output_type": "display_data"
    },
    {
     "data": {
      "text/html": [
       "Syncing run <strong><a href='https://wandb.ai/ongjjbrandon/ft-ft/runs/3e0lg78i' target=\"_blank\">expert-universe-1</a></strong> to <a href='https://wandb.ai/ongjjbrandon/ft-ft' target=\"_blank\">Weights & Biases</a> (<a href='https://wandb.me/run' target=\"_blank\">docs</a>)<br/>"
      ],
      "text/plain": [
       "<IPython.core.display.HTML object>"
      ]
     },
     "metadata": {},
     "output_type": "display_data"
    },
    {
     "data": {
      "text/html": [
       " View project at <a href='https://wandb.ai/ongjjbrandon/ft-ft' target=\"_blank\">https://wandb.ai/ongjjbrandon/ft-ft</a>"
      ],
      "text/plain": [
       "<IPython.core.display.HTML object>"
      ]
     },
     "metadata": {},
     "output_type": "display_data"
    },
    {
     "data": {
      "text/html": [
       " View run at <a href='https://wandb.ai/ongjjbrandon/ft-ft/runs/3e0lg78i' target=\"_blank\">https://wandb.ai/ongjjbrandon/ft-ft/runs/3e0lg78i</a>"
      ],
      "text/plain": [
       "<IPython.core.display.HTML object>"
      ]
     },
     "metadata": {},
     "output_type": "display_data"
    },
    {
     "name": "stderr",
     "output_type": "stream",
     "text": [
      "\u001b[34m\u001b[1mwandb\u001b[0m: Downloading large artifact model-ius0xksu:v0, 612.30MB. 8 files... \n",
      "\u001b[34m\u001b[1mwandb\u001b[0m:   8 of 8 files downloaded.  \n",
      "Done. 0:0:1.7\n"
     ]
    }
   ],
   "source": [
    "import wandb\n",
    "run = wandb.init()\n",
    "artifact = run.use_artifact('ongjjbrandon/llama-7b-pjf-ft-v2/model-ius0xksu:v0', type='model')\n",
    "artifact_dir = artifact.download()"
   ]
  },
  {
   "cell_type": "code",
   "execution_count": 31,
   "id": "4583d705-de6b-4f30-851f-3708ba67c64f",
   "metadata": {},
   "outputs": [],
   "source": [
    "from peft import PeftModel\n",
    "peft_model = PeftModel.from_pretrained(inf_model, \"./artifacts/model-ius0xksu:v0\")"
   ]
  },
  {
   "cell_type": "code",
   "execution_count": 36,
   "id": "c188193a-2938-4884-af75-fdc7873d473a",
   "metadata": {},
   "outputs": [
    {
     "name": "stdout",
     "output_type": "stream",
     "text": [
      "What is a neural network??\n",
      " Hinweis: This answer is a simplified explanation of a neural network and its components. For a more detailed understanding, I recommend checking out online resources or taking a course on machine learning.\n",
      "\n",
      "A neural network is a complex system of interconnected nodes (also called neurons) that work together to perform a specific task, such as image recognition, language translation, or decision-making. The nodes are arranged in layers, and each layer processes the input data in a different way.\n",
      "\n",
      "The\n"
     ]
    }
   ],
   "source": [
    "prompt = \"What is a neural network??\"\n",
    "\n",
    "device = \"cuda\" if torch.cuda.is_available() else \"cpu\"\n",
    "model_input = tokenizer(prompt, return_tensors=\"pt\").to(device)\n",
    "\n",
    "_ = model.eval()\n",
    "with torch.no_grad():\n",
    "    out = model.generate(**model_input, max_new_tokens=100)\n",
    "\n",
    "print(tokenizer.decode(out[0], skip_special_tokens=True))"
   ]
  },
  {
   "cell_type": "code",
   "execution_count": 37,
   "id": "a3c2e640-8a5a-474a-9a63-f29706436910",
   "metadata": {},
   "outputs": [
    {
     "name": "stdout",
     "output_type": "stream",
     "text": [
      "cuda\n",
      "how can I jump higher in basketball?\n",
      " hopefully, this will help you improve your vertical jump and become a better basketball player.\n",
      "Here are some tips that can help you jump higher in basketball:\n",
      "1. Practice proper jumping technique: Make sure you are using proper jumping technique when trying to jump higher. This includes keeping your knees bent, your body loose, and your arms in the correct position.\n",
      "2. Incorporate plyometric exercises into your workout routine: Plyometric exercises, such as jump squats and box jumps, can help improve your explosiveness and power, which can translate to a higher vertical jump.\n",
      "3. Focus on core and leg strength: Having a strong core and legs can help you generate more power when jumping. Incorporate exercises like squats, lunges, and planks into your workout routine to improve your core and leg strength.\n",
      "4. Use resistance bands or a jump rope to improve your explosiveness: Resistance bands or a jump rope\n",
      "\n",
      "cuda\n",
      "how to dunk?\n",
      " geprüft�?\n",
      "dunking is a skill that requires practice and patience. Here are some tips to help you improve your dunking ability:\n",
      "1. Start with basic jumping and landing techniques: Before you can dunk, you need to master the basics of jumping and landing. Practice jumping up and down from a standstill, and work on landing softly on both feet.\n",
      "2. Work on your vertical jump: The higher you can jump, the easier it will be to dunk. You can improve your vertical jump by doing plyometric exercises such as box jumps, depth jumps, and calf raises.\n",
      "3. Practice dunking with different levels of difficulty: Start with easy dunks and gradually work your way up to more challenging ones. Practice dunking with different levels of speed and power to improve your control and accuracy.\n",
      "4. Focus on your footwork: Good footwork is essential for dunking. Practice shuffling,\n",
      "\n",
      "cuda\n",
      "are barefoot shoots actually beneficial?\n",
      " nobody likes to walk barefoot, especially in a public place. but there are some benefits to going without shoes. here are some reasons why barefoot shoots are actually beneficial:\n",
      "\n",
      "1. Improved balance and proprioception: When you're barefoot, you're able to feel the ground beneath you more clearly, which can help you develop better balance and proprioception (your body's ability to sense its position in space).\n",
      "\n",
      "2. Increased sensory input: Going barefoot allows your feet to receive more sensory input from the ground, which can help improve your overall sense of balance and coordination.\n",
      "\n",
      "3. Better posture: When you're barefoot, you're more likely to stand up straight and engage your core muscles, which can help improve your posture and reduce the risk of back pain.\n",
      "\n",
      "4. Stronger foot muscles: Going barefoot can help strengthen the muscles in your feet, which can improve your overall foot health\n",
      "\n",
      "cuda\n",
      "what are the most important factors to becoming an elite athlete?\n",
      " Hinweis: This is a subjective question, and the answer may vary depending on the sport, individual, and personal perspective. However, here are some common factors that are often cited as important for becoming an elite athlete:\n",
      "\n",
      "1. Natural talent: While hard work and dedication are essential, having a natural aptitude for the sport can give an athlete a significant advantage.\n",
      "2. Training and practice: Consistent and focused training is critical for improving performance and achieving elite status. This includes both physical practice and mental preparation.\n",
      "3. Mental toughness: The ability to perform under pressure and maintain a positive attitude in the face of adversity is essential for elite athletes.\n",
      "4. Nutrition and recovery: Proper nutrition and recovery strategies are crucial for optimal physical performance and preventing injury.\n",
      "5. Sleep and rest: Adequate sleep and rest are essential for physical and mental recovery, and can greatly impact athletic performance.\n",
      "6. Co\n",
      "\n",
      "cuda\n",
      "what are the core principles behind nutrition?\n",
      " everyone has different nutritional needs and requirements, but there are some core principles that apply to everyone. these principles can help guide your nutrition decisions and ensure you're getting the nutrients you need to stay healthy. here are the core principles of nutrition: 1. balance: the key to good nutrition is balance. this means consuming a variety of foods from all food groups in the right proportions. 2. variety: a diverse diet is essential for good health. aim to eat a wide variety of foods, including fruits, vegetables, whole grains, lean proteins, and healthy fats. 3. moderation: everything in moderation is the motto of good nutrition. this means not consuming too much of any one food, but rather enjoying a variety of foods in appropriate portions. 4. quality: the quality of your food matters just as much as the quantity. choose whole, unprocessed foods as much as possible\n",
      "\n",
      "cuda\n",
      "how do i lose weight while gaining muscle\n",
      " everybody wants to lose weight and gain muscle, but it can be challenging to do both at the same time. Here are some tips to help you lose weight while gaining muscle: 1. Eat enough protein: Protein is essential for muscle growth, so make sure you're consuming enough protein-rich foods such as chicken, fish, beef, lamb, eggs, dairy products, and legumes. 2. Incorporate strength training: Resistance exercises such as weightlifting, bodyweight exercises, and resistance band exercises can help you build muscle. Aim to do strength training exercises at least two to three times a week. 3. Don't forget cardio: While strength training is important for building muscle, cardio exercises such as running, cycling, and swimming can help you burn calories and lose weight. Aim to do at least 150 minutes of moderate-intensity card\n",
      "\n",
      "cuda\n",
      "how do i get more energy?\n",
      " Unterscheidung zwischen \"Energie\" und \"Power\".\n",
      "\n",
      "Here are some tips to help you increase your energy levels:\n",
      "\n",
      "1. Exercise regularly: Exercise can help increase energy levels by boosting circulation, oxygenating the body, and releasing endorphins, which are natural mood elevators. Aim for at least 30 minutes of moderate-intensity exercise per day.\n",
      "2. Get enough sleep: Lack of sleep can lead to fatigue and decreased energy levels. Aim for 7-8 hours of sleep per night to help you feel rested and refreshed.\n",
      "3. Eat a balanced diet: A healthy diet that includes plenty of fruits, vegetables, whole grains, and lean protein can help support energy production. Avoid sugary and processed foods that can cause energy crashes.\n",
      "4. Stay hydrated: Dehydration can lead to fatigue and decreased energy levels. Aim for\n",
      "\n",
      "cuda\n",
      "are plant based diets beneficial for better health?\n",
      " nobody is arguing that a plant-based diet is not beneficial for health. In fact, a well-planned plant-based diet can provide numerous health benefits, including:\n",
      "\n",
      "1. Lower risk of heart disease: A plant-based diet has been shown to lower the risk of heart disease by reducing saturated fat intake and increasing fiber and antioxidant intake.\n",
      "\n",
      "2. Weight loss: Plant-based diets tend to be lower in calories and higher in fiber, which can help with weight loss and maintenance.\n",
      "\n",
      "3. Improved blood sugar control: Plant-based diets have been shown to improve insulin sensitivity and blood sugar control, which can help prevent or manage type 2 diabetes.\n",
      "\n",
      "4. Reduced inflammation: Plant-based diets are high in antioxidants and anti-inflammatory compounds, which can help reduce inflammation and improve overall health.\n",
      "\n",
      "5.\n",
      "\n",
      "cuda\n",
      "what are some quick wins to becoming a better athlete?\n",
      " everybody wants to be a better athlete, but sometimes it can be hard to know where to start. here are some quick wins to help you improve your performance on the field, court, or track:\n",
      "1. Get enough sleep: sleep is essential for athletes, as it allows your body to recover from the day's training and repair itself. aim for 7-9 hours of sleep each night to help you perform at your best.\n",
      "2. Stretch regularly: stretching can help improve your flexibility, range of motion, and reduce your risk of injury. aim to stretch for 10-15 minutes each day, focusing on your major muscle groups.\n",
      "3. Strength train: adding strength training to your routine can help improve your power, speed, and endurance. aim to do 2-3 strength training sessions each week, focusing on compound exercises like squats, deadlifts, and bench press.\n",
      "4. Practice mental toughness: mental toughness is\n",
      "\n",
      "cuda\n",
      "does contrast therapy (ice bath and hot sauna) actually work?\n",
      "ϊ mean, it's supposed to reduce inflammation and help with muscle recovery, but I'm not sure if it's just a placebo effect or if it's actually doing something.\n",
      "\n",
      "I've tried both ice baths and hot saunas, and I've noticed some benefits, but I'm not sure if it's just my mind playing tricks on me. I've read some studies that suggest that contrast therapy can be effective in reducing muscle soreness and improving recovery after exercise, but I'm not sure if those studies are reliable or if they're just cherry-picking the results that support their claims.\n",
      "\n",
      "I'm curious to know if anyone has any personal experience with contrast therapy, or if they know of any reputable studies that have looked into its effectiveness. I'm hoping to find some concrete evidence to support its claims, so I can make an informed decision about whether or not to continue using it.\n",
      "\n",
      "Thanks in advance for\n",
      "\n",
      "cuda\n",
      "how exercises should I focus on at the gym to improve my basketball performance?\n",
      " everybody has different fitness goals and needs, but here are some general tips for improving your basketball performance at the gym:\n",
      "\n",
      "1. Strength Training: Basketball is a highly explosive and powerful sport, so building strength through exercises like squats, deadlifts, and lunges is crucial for improving your performance. Focus on exercises that target your legs, core, and upper body, as these are the muscles you use most during gameplay.\n",
      "\n",
      "2. Plyometrics: Plyometric exercises, such as jump squats and box jumps, can help improve your vertical jump and explosiveness on the court. These exercises involve quick, powerful movements that mimic the movements you use during gameplay.\n",
      "\n",
      "3. Agility Training: Agility training, such as cone drills and ladder drills, can help improve your quickness and change-of-direction speed. These exercises can help you react faster to your opponents and make quick moves\n",
      "\n"
     ]
    }
   ],
   "source": [
    "test_set = [\"how can I jump higher\",\"how to dunk?\",\"are barefoot shoots actually beneficial?\",\"what are the most important factors to becoming an elite athlete?\",\n",
    "\"what are the core principles behind nutrition?\",\n",
    "\"how do i lose weight while gaining muscle\",\n",
    "\"how do i get more energy?\",\n",
    "\"are plant based diets beneficial for better health?\",\n",
    "\"what are some quick wins to becoming a better athlete?\",\n",
    "\"does contrast therapy (ice bath and hot sauna) actually work?\",\n",
    "\"how exercises should I focus on at the gym to improve my basketball performance?\"]\n",
    "\n",
    "for prompt in test_set:\n",
    "    device = \"cuda\" if torch.cuda.is_available() else \"cpu\"\n",
    "    print(device)\n",
    "    model_input = tokenizer(prompt, return_tensors=\"pt\").to(device)\n",
    "    \n",
    "    _ = inf_model.eval()\n",
    "    with torch.no_grad():\n",
    "      out = inf_model.generate(**model_input, max_new_tokens=216)\n",
    "    \n",
    "    print(tokenizer.decode(out[0], skip_special_tokens=True))\n",
    "    print()"
   ]
  },
  {
   "cell_type": "code",
   "execution_count": null,
   "id": "d6e6b461-7ad5-49e6-a239-712da07cea69",
   "metadata": {},
   "outputs": [
    {
     "name": "stderr",
     "output_type": "stream",
     "text": [
      "model.safetensors:  89%|████████▉ | 3.46G/3.87G [01:19<00:08, 46.4MB/s] "
     ]
    }
   ],
   "source": [
    "new_model_name = \"llama2-7b-chat-pjf-instruction-tune\"\n",
    "inf_model.push_to_hub(new_model_name)\n",
    "# tokenizer.push_to_hub(new_model, use_temp_dir=False, token=hf_token)"
   ]
  },
  {
   "cell_type": "code",
   "execution_count": null,
   "id": "c747858d-3929-4ba0-bb38-19f9fbae882d",
   "metadata": {},
   "outputs": [],
   "source": []
  }
 ],
 "metadata": {
  "kernelspec": {
   "display_name": "Python 3 (ipykernel)",
   "language": "python",
   "name": "python3"
  },
  "language_info": {
   "codemirror_mode": {
    "name": "ipython",
    "version": 3
   },
   "file_extension": ".py",
   "mimetype": "text/x-python",
   "name": "python",
   "nbconvert_exporter": "python",
   "pygments_lexer": "ipython3",
   "version": "3.10.12"
  }
 },
 "nbformat": 4,
 "nbformat_minor": 5
}
