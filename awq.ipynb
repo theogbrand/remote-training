{
 "cells": [
  {
   "cell_type": "code",
   "execution_count": null,
   "metadata": {},
   "outputs": [],
   "source": [
    "# comparison: https://huggingface.co/blog/overview-quantization-transformers#conclusion-and-final-words\n",
    "# AWQ as best when benchmarked w others: https://huggingface.co/docs/transformers/quantization#benchmarks"
   ]
  }
 ],
 "metadata": {
  "language_info": {
   "name": "python"
  }
 },
 "nbformat": 4,
 "nbformat_minor": 2
}
